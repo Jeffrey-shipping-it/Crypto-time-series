{
 "cells": [
  {
   "cell_type": "markdown",
   "metadata": {},
   "source": [
    "## Read datasets"
   ]
  },
  {
   "cell_type": "code",
   "execution_count": 1,
   "metadata": {},
   "outputs": [
    {
     "name": "stderr",
     "output_type": "stream",
     "text": [
      "Importing plotly failed. Interactive plots will not work.\n"
     ]
    }
   ],
   "source": [
    "import pandas as pd\n",
    "import numpy as np\n",
    "from ts_utils import *"
   ]
  },
  {
   "cell_type": "code",
   "execution_count": 2,
   "metadata": {},
   "outputs": [],
   "source": [
    "BTC = pd.read_parquet(\"BTC-USDT.parquet\")\n",
    "ETH = pd.read_parquet(\"ETH-USDT.parquet\")\n",
    "BNB = pd.read_parquet(\"BNB-USDT.parquet\")"
   ]
  },
  {
   "cell_type": "code",
   "execution_count": 3,
   "metadata": {},
   "outputs": [
    {
     "data": {
      "text/html": [
       "<div>\n",
       "<style scoped>\n",
       "    .dataframe tbody tr th:only-of-type {\n",
       "        vertical-align: middle;\n",
       "    }\n",
       "\n",
       "    .dataframe tbody tr th {\n",
       "        vertical-align: top;\n",
       "    }\n",
       "\n",
       "    .dataframe thead th {\n",
       "        text-align: right;\n",
       "    }\n",
       "</style>\n",
       "<table border=\"1\" class=\"dataframe\">\n",
       "  <thead>\n",
       "    <tr style=\"text-align: right;\">\n",
       "      <th></th>\n",
       "      <th>open</th>\n",
       "      <th>high</th>\n",
       "      <th>low</th>\n",
       "      <th>close</th>\n",
       "      <th>volume</th>\n",
       "      <th>quote_asset_volume</th>\n",
       "      <th>number_of_trades</th>\n",
       "      <th>taker_buy_base_asset_volume</th>\n",
       "      <th>taker_buy_quote_asset_volume</th>\n",
       "    </tr>\n",
       "    <tr>\n",
       "      <th>open_time</th>\n",
       "      <th></th>\n",
       "      <th></th>\n",
       "      <th></th>\n",
       "      <th></th>\n",
       "      <th></th>\n",
       "      <th></th>\n",
       "      <th></th>\n",
       "      <th></th>\n",
       "      <th></th>\n",
       "    </tr>\n",
       "  </thead>\n",
       "  <tbody>\n",
       "    <tr>\n",
       "      <th>2017-08-17 04:00:00</th>\n",
       "      <td>4261.479980</td>\n",
       "      <td>4261.479980</td>\n",
       "      <td>4261.479980</td>\n",
       "      <td>4261.479980</td>\n",
       "      <td>1.775183</td>\n",
       "      <td>7.564907e+03</td>\n",
       "      <td>3</td>\n",
       "      <td>0.075183</td>\n",
       "      <td>3.203908e+02</td>\n",
       "    </tr>\n",
       "    <tr>\n",
       "      <th>2017-08-17 04:01:00</th>\n",
       "      <td>4261.479980</td>\n",
       "      <td>4261.479980</td>\n",
       "      <td>4261.479980</td>\n",
       "      <td>4261.479980</td>\n",
       "      <td>0.000000</td>\n",
       "      <td>0.000000e+00</td>\n",
       "      <td>0</td>\n",
       "      <td>0.000000</td>\n",
       "      <td>0.000000e+00</td>\n",
       "    </tr>\n",
       "    <tr>\n",
       "      <th>2017-08-17 04:02:00</th>\n",
       "      <td>4280.560059</td>\n",
       "      <td>4280.560059</td>\n",
       "      <td>4280.560059</td>\n",
       "      <td>4280.560059</td>\n",
       "      <td>0.261074</td>\n",
       "      <td>1.117543e+03</td>\n",
       "      <td>2</td>\n",
       "      <td>0.261074</td>\n",
       "      <td>1.117543e+03</td>\n",
       "    </tr>\n",
       "    <tr>\n",
       "      <th>2017-08-17 04:03:00</th>\n",
       "      <td>4261.479980</td>\n",
       "      <td>4261.479980</td>\n",
       "      <td>4261.479980</td>\n",
       "      <td>4261.479980</td>\n",
       "      <td>0.012008</td>\n",
       "      <td>5.117185e+01</td>\n",
       "      <td>3</td>\n",
       "      <td>0.012008</td>\n",
       "      <td>5.117185e+01</td>\n",
       "    </tr>\n",
       "    <tr>\n",
       "      <th>2017-08-17 04:04:00</th>\n",
       "      <td>4261.479980</td>\n",
       "      <td>4261.479980</td>\n",
       "      <td>4261.479980</td>\n",
       "      <td>4261.479980</td>\n",
       "      <td>0.140796</td>\n",
       "      <td>5.999993e+02</td>\n",
       "      <td>1</td>\n",
       "      <td>0.140796</td>\n",
       "      <td>5.999993e+02</td>\n",
       "    </tr>\n",
       "    <tr>\n",
       "      <th>...</th>\n",
       "      <td>...</td>\n",
       "      <td>...</td>\n",
       "      <td>...</td>\n",
       "      <td>...</td>\n",
       "      <td>...</td>\n",
       "      <td>...</td>\n",
       "      <td>...</td>\n",
       "      <td>...</td>\n",
       "      <td>...</td>\n",
       "    </tr>\n",
       "    <tr>\n",
       "      <th>2021-02-11 23:27:00</th>\n",
       "      <td>47736.160156</td>\n",
       "      <td>47777.000000</td>\n",
       "      <td>47719.000000</td>\n",
       "      <td>47765.171875</td>\n",
       "      <td>34.635551</td>\n",
       "      <td>1.653673e+06</td>\n",
       "      <td>1590</td>\n",
       "      <td>19.648600</td>\n",
       "      <td>9.381803e+05</td>\n",
       "    </tr>\n",
       "    <tr>\n",
       "      <th>2021-02-11 23:28:00</th>\n",
       "      <td>47759.351562</td>\n",
       "      <td>47827.359375</td>\n",
       "      <td>47742.988281</td>\n",
       "      <td>47810.640625</td>\n",
       "      <td>34.524536</td>\n",
       "      <td>1.650018e+06</td>\n",
       "      <td>1492</td>\n",
       "      <td>16.385790</td>\n",
       "      <td>7.832194e+05</td>\n",
       "    </tr>\n",
       "    <tr>\n",
       "      <th>2021-02-11 23:29:00</th>\n",
       "      <td>47810.640625</td>\n",
       "      <td>47860.000000</td>\n",
       "      <td>47675.070312</td>\n",
       "      <td>47703.671875</td>\n",
       "      <td>36.593658</td>\n",
       "      <td>1.748008e+06</td>\n",
       "      <td>1760</td>\n",
       "      <td>21.685097</td>\n",
       "      <td>1.035822e+06</td>\n",
       "    </tr>\n",
       "    <tr>\n",
       "      <th>2021-02-11 23:30:00</th>\n",
       "      <td>47699.398438</td>\n",
       "      <td>47800.000000</td>\n",
       "      <td>47660.000000</td>\n",
       "      <td>47799.988281</td>\n",
       "      <td>57.657494</td>\n",
       "      <td>2.752828e+06</td>\n",
       "      <td>1688</td>\n",
       "      <td>24.617435</td>\n",
       "      <td>1.175202e+06</td>\n",
       "    </tr>\n",
       "    <tr>\n",
       "      <th>2021-02-11 23:31:00</th>\n",
       "      <td>47800.000000</td>\n",
       "      <td>47881.640625</td>\n",
       "      <td>47777.390625</td>\n",
       "      <td>47857.750000</td>\n",
       "      <td>56.192051</td>\n",
       "      <td>2.687365e+06</td>\n",
       "      <td>1976</td>\n",
       "      <td>25.907854</td>\n",
       "      <td>1.239159e+06</td>\n",
       "    </tr>\n",
       "  </tbody>\n",
       "</table>\n",
       "<p>1828151 rows × 9 columns</p>\n",
       "</div>"
      ],
      "text/plain": [
       "                             open          high           low         close  \\\n",
       "open_time                                                                     \n",
       "2017-08-17 04:00:00   4261.479980   4261.479980   4261.479980   4261.479980   \n",
       "2017-08-17 04:01:00   4261.479980   4261.479980   4261.479980   4261.479980   \n",
       "2017-08-17 04:02:00   4280.560059   4280.560059   4280.560059   4280.560059   \n",
       "2017-08-17 04:03:00   4261.479980   4261.479980   4261.479980   4261.479980   \n",
       "2017-08-17 04:04:00   4261.479980   4261.479980   4261.479980   4261.479980   \n",
       "...                           ...           ...           ...           ...   \n",
       "2021-02-11 23:27:00  47736.160156  47777.000000  47719.000000  47765.171875   \n",
       "2021-02-11 23:28:00  47759.351562  47827.359375  47742.988281  47810.640625   \n",
       "2021-02-11 23:29:00  47810.640625  47860.000000  47675.070312  47703.671875   \n",
       "2021-02-11 23:30:00  47699.398438  47800.000000  47660.000000  47799.988281   \n",
       "2021-02-11 23:31:00  47800.000000  47881.640625  47777.390625  47857.750000   \n",
       "\n",
       "                        volume  quote_asset_volume  number_of_trades  \\\n",
       "open_time                                                              \n",
       "2017-08-17 04:00:00   1.775183        7.564907e+03                 3   \n",
       "2017-08-17 04:01:00   0.000000        0.000000e+00                 0   \n",
       "2017-08-17 04:02:00   0.261074        1.117543e+03                 2   \n",
       "2017-08-17 04:03:00   0.012008        5.117185e+01                 3   \n",
       "2017-08-17 04:04:00   0.140796        5.999993e+02                 1   \n",
       "...                        ...                 ...               ...   \n",
       "2021-02-11 23:27:00  34.635551        1.653673e+06              1590   \n",
       "2021-02-11 23:28:00  34.524536        1.650018e+06              1492   \n",
       "2021-02-11 23:29:00  36.593658        1.748008e+06              1760   \n",
       "2021-02-11 23:30:00  57.657494        2.752828e+06              1688   \n",
       "2021-02-11 23:31:00  56.192051        2.687365e+06              1976   \n",
       "\n",
       "                     taker_buy_base_asset_volume  taker_buy_quote_asset_volume  \n",
       "open_time                                                                       \n",
       "2017-08-17 04:00:00                     0.075183                  3.203908e+02  \n",
       "2017-08-17 04:01:00                     0.000000                  0.000000e+00  \n",
       "2017-08-17 04:02:00                     0.261074                  1.117543e+03  \n",
       "2017-08-17 04:03:00                     0.012008                  5.117185e+01  \n",
       "2017-08-17 04:04:00                     0.140796                  5.999993e+02  \n",
       "...                                          ...                           ...  \n",
       "2021-02-11 23:27:00                    19.648600                  9.381803e+05  \n",
       "2021-02-11 23:28:00                    16.385790                  7.832194e+05  \n",
       "2021-02-11 23:29:00                    21.685097                  1.035822e+06  \n",
       "2021-02-11 23:30:00                    24.617435                  1.175202e+06  \n",
       "2021-02-11 23:31:00                    25.907854                  1.239159e+06  \n",
       "\n",
       "[1828151 rows x 9 columns]"
      ]
     },
     "execution_count": 3,
     "metadata": {},
     "output_type": "execute_result"
    }
   ],
   "source": [
    "BTC"
   ]
  },
  {
   "cell_type": "code",
   "execution_count": 4,
   "metadata": {},
   "outputs": [
    {
     "data": {
      "text/html": [
       "<div>\n",
       "<style scoped>\n",
       "    .dataframe tbody tr th:only-of-type {\n",
       "        vertical-align: middle;\n",
       "    }\n",
       "\n",
       "    .dataframe tbody tr th {\n",
       "        vertical-align: top;\n",
       "    }\n",
       "\n",
       "    .dataframe thead th {\n",
       "        text-align: right;\n",
       "    }\n",
       "</style>\n",
       "<table border=\"1\" class=\"dataframe\">\n",
       "  <thead>\n",
       "    <tr style=\"text-align: right;\">\n",
       "      <th></th>\n",
       "      <th>open</th>\n",
       "      <th>high</th>\n",
       "      <th>low</th>\n",
       "      <th>close</th>\n",
       "      <th>volume</th>\n",
       "      <th>quote_asset_volume</th>\n",
       "      <th>number_of_trades</th>\n",
       "      <th>taker_buy_base_asset_volume</th>\n",
       "      <th>taker_buy_quote_asset_volume</th>\n",
       "    </tr>\n",
       "  </thead>\n",
       "  <tbody>\n",
       "    <tr>\n",
       "      <th>count</th>\n",
       "      <td>1.828151e+06</td>\n",
       "      <td>1.828151e+06</td>\n",
       "      <td>1.828151e+06</td>\n",
       "      <td>1.828151e+06</td>\n",
       "      <td>1.828151e+06</td>\n",
       "      <td>1.828151e+06</td>\n",
       "      <td>1.828151e+06</td>\n",
       "      <td>1.828151e+06</td>\n",
       "      <td>1.828151e+06</td>\n",
       "    </tr>\n",
       "    <tr>\n",
       "      <th>mean</th>\n",
       "      <td>9.440471e+03</td>\n",
       "      <td>9.447725e+03</td>\n",
       "      <td>9.432954e+03</td>\n",
       "      <td>9.440476e+03</td>\n",
       "      <td>3.250472e+01</td>\n",
       "      <td>3.670271e+05</td>\n",
       "      <td>3.478896e+02</td>\n",
       "      <td>1.626499e+01</td>\n",
       "      <td>1.826465e+05</td>\n",
       "    </tr>\n",
       "    <tr>\n",
       "      <th>std</th>\n",
       "      <td>6.151785e+03</td>\n",
       "      <td>6.159343e+03</td>\n",
       "      <td>6.144112e+03</td>\n",
       "      <td>6.151860e+03</td>\n",
       "      <td>5.624708e+01</td>\n",
       "      <td>8.676638e+05</td>\n",
       "      <td>5.340670e+02</td>\n",
       "      <td>2.940946e+01</td>\n",
       "      <td>4.578598e+05</td>\n",
       "    </tr>\n",
       "    <tr>\n",
       "      <th>min</th>\n",
       "      <td>2.830000e+03</td>\n",
       "      <td>2.830000e+03</td>\n",
       "      <td>2.817000e+03</td>\n",
       "      <td>2.817000e+03</td>\n",
       "      <td>0.000000e+00</td>\n",
       "      <td>0.000000e+00</td>\n",
       "      <td>0.000000e+00</td>\n",
       "      <td>0.000000e+00</td>\n",
       "      <td>0.000000e+00</td>\n",
       "    </tr>\n",
       "    <tr>\n",
       "      <th>25%</th>\n",
       "      <td>6.424470e+03</td>\n",
       "      <td>6.427425e+03</td>\n",
       "      <td>6.421030e+03</td>\n",
       "      <td>6.424380e+03</td>\n",
       "      <td>8.483359e+00</td>\n",
       "      <td>5.996570e+04</td>\n",
       "      <td>9.400000e+01</td>\n",
       "      <td>3.900169e+00</td>\n",
       "      <td>2.778046e+04</td>\n",
       "    </tr>\n",
       "    <tr>\n",
       "      <th>50%</th>\n",
       "      <td>8.234760e+03</td>\n",
       "      <td>8.239670e+03</td>\n",
       "      <td>8.230000e+03</td>\n",
       "      <td>8.234580e+03</td>\n",
       "      <td>1.802669e+01</td>\n",
       "      <td>1.465657e+05</td>\n",
       "      <td>1.840000e+02</td>\n",
       "      <td>8.636095e+00</td>\n",
       "      <td>6.991936e+04</td>\n",
       "    </tr>\n",
       "    <tr>\n",
       "      <th>75%</th>\n",
       "      <td>1.033927e+04</td>\n",
       "      <td>1.034496e+04</td>\n",
       "      <td>1.033288e+04</td>\n",
       "      <td>1.033921e+04</td>\n",
       "      <td>3.629257e+01</td>\n",
       "      <td>3.363069e+05</td>\n",
       "      <td>3.940000e+02</td>\n",
       "      <td>1.799928e+01</td>\n",
       "      <td>1.665200e+05</td>\n",
       "    </tr>\n",
       "    <tr>\n",
       "      <th>max</th>\n",
       "      <td>4.863660e+04</td>\n",
       "      <td>4.867890e+04</td>\n",
       "      <td>4.850111e+04</td>\n",
       "      <td>4.865588e+04</td>\n",
       "      <td>3.564139e+03</td>\n",
       "      <td>5.707025e+07</td>\n",
       "      <td>2.278100e+04</td>\n",
       "      <td>2.177455e+03</td>\n",
       "      <td>3.820974e+07</td>\n",
       "    </tr>\n",
       "  </tbody>\n",
       "</table>\n",
       "</div>"
      ],
      "text/plain": [
       "               open          high           low         close        volume  \\\n",
       "count  1.828151e+06  1.828151e+06  1.828151e+06  1.828151e+06  1.828151e+06   \n",
       "mean   9.440471e+03  9.447725e+03  9.432954e+03  9.440476e+03  3.250472e+01   \n",
       "std    6.151785e+03  6.159343e+03  6.144112e+03  6.151860e+03  5.624708e+01   \n",
       "min    2.830000e+03  2.830000e+03  2.817000e+03  2.817000e+03  0.000000e+00   \n",
       "25%    6.424470e+03  6.427425e+03  6.421030e+03  6.424380e+03  8.483359e+00   \n",
       "50%    8.234760e+03  8.239670e+03  8.230000e+03  8.234580e+03  1.802669e+01   \n",
       "75%    1.033927e+04  1.034496e+04  1.033288e+04  1.033921e+04  3.629257e+01   \n",
       "max    4.863660e+04  4.867890e+04  4.850111e+04  4.865588e+04  3.564139e+03   \n",
       "\n",
       "       quote_asset_volume  number_of_trades  taker_buy_base_asset_volume  \\\n",
       "count        1.828151e+06      1.828151e+06                 1.828151e+06   \n",
       "mean         3.670271e+05      3.478896e+02                 1.626499e+01   \n",
       "std          8.676638e+05      5.340670e+02                 2.940946e+01   \n",
       "min          0.000000e+00      0.000000e+00                 0.000000e+00   \n",
       "25%          5.996570e+04      9.400000e+01                 3.900169e+00   \n",
       "50%          1.465657e+05      1.840000e+02                 8.636095e+00   \n",
       "75%          3.363069e+05      3.940000e+02                 1.799928e+01   \n",
       "max          5.707025e+07      2.278100e+04                 2.177455e+03   \n",
       "\n",
       "       taker_buy_quote_asset_volume  \n",
       "count                  1.828151e+06  \n",
       "mean                   1.826465e+05  \n",
       "std                    4.578598e+05  \n",
       "min                    0.000000e+00  \n",
       "25%                    2.778046e+04  \n",
       "50%                    6.991936e+04  \n",
       "75%                    1.665200e+05  \n",
       "max                    3.820974e+07  "
      ]
     },
     "execution_count": 4,
     "metadata": {},
     "output_type": "execute_result"
    }
   ],
   "source": [
    "BTC.describe()"
   ]
  },
  {
   "cell_type": "code",
   "execution_count": 9,
   "metadata": {},
   "outputs": [],
   "source": [
    "BTC_plot = BTC['close']"
   ]
  },
  {
   "cell_type": "code",
   "execution_count": 10,
   "metadata": {},
   "outputs": [
    {
     "data": {
      "text/plain": [
       "open_time\n",
       "2017-08-17 04:00:00     4261.479980\n",
       "2017-08-17 04:01:00     4261.479980\n",
       "2017-08-17 04:02:00     4280.560059\n",
       "2017-08-17 04:03:00     4261.479980\n",
       "2017-08-17 04:04:00     4261.479980\n",
       "                           ...     \n",
       "2021-02-11 23:27:00    47765.171875\n",
       "2021-02-11 23:28:00    47810.640625\n",
       "2021-02-11 23:29:00    47703.671875\n",
       "2021-02-11 23:30:00    47799.988281\n",
       "2021-02-11 23:31:00    47857.750000\n",
       "Name: close, Length: 1828151, dtype: float32"
      ]
     },
     "execution_count": 10,
     "metadata": {},
     "output_type": "execute_result"
    }
   ],
   "source": [
    "BTC_plot"
   ]
  },
  {
   "cell_type": "code",
   "execution_count": null,
   "metadata": {},
   "outputs": [],
   "source": [
    "plot_ts(BTC_plot, plot_ma=True, plot_intervals=True, window=30, figsize=(15,5))"
   ]
  },
  {
   "cell_type": "code",
   "execution_count": null,
   "metadata": {},
   "outputs": [],
   "source": [
    "plot_ts(ETH['close'], plot_ma=True, plot_intervals=True, window=30, figsize=(15,5))"
   ]
  },
  {
   "cell_type": "code",
   "execution_count": null,
   "metadata": {},
   "outputs": [],
   "source": [
    "plot_ts(BNB['close'], plot_ma=True, plot_intervals=True, window=30, figsize=(15,5))"
   ]
  },
  {
   "cell_type": "code",
   "execution_count": 3,
   "metadata": {},
   "outputs": [
    {
     "name": "stdout",
     "output_type": "stream",
     "text": [
      "--- splitting at index:  1635650 | 2020-10-01 00:00:00 | test size: 0.11  ---\n"
     ]
    },
    {
     "name": "stderr",
     "output_type": "stream",
     "text": [
      "/usr/local/lib/python3.8/dist-packages/pandas/plotting/_matplotlib/tools.py:400: MatplotlibDeprecationWarning: \n",
      "The is_first_col function was deprecated in Matplotlib 3.4 and will be removed two minor releases later. Use ax.get_subplotspec().is_first_col() instead.\n",
      "  if ax.is_first_col():\n",
      "/usr/local/lib/python3.8/dist-packages/pandas/plotting/_matplotlib/tools.py:400: MatplotlibDeprecationWarning: \n",
      "The is_first_col function was deprecated in Matplotlib 3.4 and will be removed two minor releases later. Use ax.get_subplotspec().is_first_col() instead.\n",
      "  if ax.is_first_col():\n"
     ]
    },
    {
     "data": {
      "image/png": "[encoded data removed]",
      "text/plain": [
       "<Figure size 1080x360 with 2 Axes>"
      ]
     },
     "metadata": {
      "needs_background": "light"
     },
     "output_type": "display_data"
    },
    {
     "name": "stdout",
     "output_type": "stream",
     "text": [
      "train: 1635650 obs  |  test: 192501 obs\n"
     ]
    }
   ],
   "source": [
    "ts_train, ts_test = split_train_test(BTC['close'], exog=None, test=\"2020-10-01\", plot=True, figsize=(15,5))\n",
    "print(\"train:\", len(ts_train), \"obs  |  test:\", len(ts_test), \"obs\")"
   ]
  },
  {
   "cell_type": "code",
   "execution_count": null,
   "metadata": {},
   "outputs": [],
   "source": []
  },
  {
   "cell_type": "markdown",
   "metadata": {},
   "source": [
    "## Neural Net (LSTM)"
   ]
  },
  {
   "cell_type": "code",
   "execution_count": 4,
   "metadata": {},
   "outputs": [],
   "source": [
    "s = 365*24*60\n",
    "n_features = 1"
   ]
  },
  {
   "cell_type": "code",
   "execution_count": 5,
   "metadata": {},
   "outputs": [
    {
     "name": "stdout",
     "output_type": "stream",
     "text": [
      "Model: \"sequential\"\n",
      "_________________________________________________________________\n",
      "Layer (type)                 Output Shape              Param #   \n",
      "=================================================================\n",
      "lstm (LSTM)                  (None, 525600, 20)        1760      \n",
      "_________________________________________________________________\n",
      "dropout (Dropout)            (None, 525600, 20)        0         \n",
      "_________________________________________________________________\n",
      "lstm_1 (LSTM)                (None, 20)                3280      \n",
      "_________________________________________________________________\n",
      "dense (Dense)                (None, 1)                 21        \n",
      "=================================================================\n",
      "Total params: 5,061\n",
      "Trainable params: 5,061\n",
      "Non-trainable params: 0\n",
      "_________________________________________________________________\n"
     ]
    }
   ],
   "source": [
    "# Number of features is 1\n",
    "model = models.Sequential()\n",
    "model.add( layers.LSTM(input_shape=(s,n_features), units=20, activation='relu', return_sequences=True) )\n",
    "model.add( layers.Dropout(0.2) )\n",
    "model.add( layers.LSTM(units=20, activation='relu', return_sequences=False) )\n",
    "model.add( layers.Dense(1) )\n",
    "model.compile(optimizer='adam', loss='mean_absolute_error')\n",
    "model.summary()"
   ]
  },
  {
   "cell_type": "code",
   "execution_count": null,
   "metadata": {},
   "outputs": [
    {
     "name": "stdout",
     "output_type": "stream",
     "text": [
      "Seasonality: using the last 525600 observations to predict the next 1\n"
     ]
    }
   ],
   "source": [
    "dtf, model = fit_lstm(ts_train, ts_test, model, exog=None, s=s, epochs=4, conf=0.20, figsize=(15,10))"
   ]
  },
  {
   "cell_type": "code",
   "execution_count": null,
   "metadata": {},
   "outputs": [],
   "source": []
  },
  {
   "cell_type": "markdown",
   "metadata": {},
   "source": [
    "## Prophet"
   ]
  },
  {
   "cell_type": "code",
   "execution_count": null,
   "metadata": {},
   "outputs": [],
   "source": []
  }
 ],
 "metadata": {
  "kernelspec": {
   "display_name": "Python 3",
   "language": "python",
   "name": "python3"
  },
  "language_info": {
   "codemirror_mode": {
    "name": "ipython",
    "version": 3
   },
   "file_extension": ".py",
   "mimetype": "text/x-python",
   "name": "python",
   "nbconvert_exporter": "python",
   "pygments_lexer": "ipython3",
   "version": "3.8.5"
  }
 },
 "nbformat": 4,
 "nbformat_minor": 4
}
